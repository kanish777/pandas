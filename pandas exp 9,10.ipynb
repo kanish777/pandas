{
 "cells": [
  {
   "cell_type": "code",
   "execution_count": 28,
   "id": "03d0e27f",
   "metadata": {},
   "outputs": [
    {
     "name": "stdout",
     "output_type": "stream",
     "text": [
      "first series: 0    1\n",
      "1    2\n",
      "2    3\n",
      "3    4\n",
      "dtype: int64\n"
     ]
    }
   ],
   "source": [
    "import pandas as pd\n",
    "s=pd.Series([1,2,3,4])\n",
    "print(\"first series:\",s)"
   ]
  },
  {
   "cell_type": "code",
   "execution_count": 29,
   "id": "22b6523f",
   "metadata": {},
   "outputs": [
    {
     "name": "stdout",
     "output_type": "stream",
     "text": [
      "add: 0     7\n",
      "1     9\n",
      "2    11\n",
      "3    13\n",
      "dtype: int64\n",
      "sub: 0   -5\n",
      "1   -5\n",
      "2   -5\n",
      "3   -5\n",
      "dtype: int64\n",
      "mul: 0     6\n",
      "1    14\n",
      "2    24\n",
      "3    36\n",
      "dtype: int64\n",
      "div: 0    0.166667\n",
      "1    0.285714\n",
      "2    0.375000\n",
      "3    0.444444\n",
      "dtype: float64\n"
     ]
    }
   ],
   "source": [
    "s1=pd.Series([1,2,3,4])\n",
    "s2=pd.Series([6,7,8,9])\n",
    "a=s1+s2\n",
    "s=s1-s2\n",
    "m=s1*s2\n",
    "d=s1/s2\n",
    "print('add:',a)\n",
    "print('sub:',s)\n",
    "print('mul:',m)\n",
    "print('div:',d)\n"
   ]
  },
  {
   "cell_type": "code",
   "execution_count": 30,
   "id": "9b2152d9",
   "metadata": {},
   "outputs": [
    {
     "name": "stdout",
     "output_type": "stream",
     "text": [
      "      name  age       city\n",
      "0    alice   34   new york\n",
      "1      bob   56  los vegas\n",
      "2  charlie   78    chicago\n"
     ]
    }
   ],
   "source": [
    "d={'name':['alice','bob','charlie'],'age':[34,56,78],'city':['new york','los vegas','chicago']}\n",
    "df=pd.DataFrame(d)\n",
    "print(df)\n"
   ]
  },
  {
   "cell_type": "code",
   "execution_count": 31,
   "id": "95456f2b",
   "metadata": {},
   "outputs": [
    {
     "name": "stdout",
     "output_type": "stream",
     "text": [
      "first row: name       alice\n",
      "age           34\n",
      "city    new york\n",
      "Name: 0, dtype: object\n"
     ]
    }
   ],
   "source": [
    "df1=df.iloc[0]\n",
    "print(\"first row:\",df1)"
   ]
  },
  {
   "cell_type": "code",
   "execution_count": 32,
   "id": "7754b830",
   "metadata": {},
   "outputs": [
    {
     "name": "stdout",
     "output_type": "stream",
     "text": [
      "      name  age\n",
      "0    alice   34\n",
      "1      bob   56\n",
      "2  charlie   78\n"
     ]
    }
   ],
   "source": [
    "print(df[['name','age']])"
   ]
  },
  {
   "cell_type": "code",
   "execution_count": 33,
   "id": "e0dd1251",
   "metadata": {},
   "outputs": [
    {
     "name": "stdout",
     "output_type": "stream",
     "text": [
      "rows= 3 \n",
      " cols= 3\n"
     ]
    }
   ],
   "source": [
    "r=len(df.axes[0])\n",
    "c=len(df.axes[1])\n",
    "print(\"rows=\",r,'\\n',\"cols=\",c)"
   ]
  },
  {
   "cell_type": "code",
   "execution_count": 37,
   "id": "eb956783",
   "metadata": {
    "scrolled": true
   },
   "outputs": [
    {
     "name": "stdout",
     "output_type": "stream",
     "text": [
      "Array elements lesser than n = 6 are:\n",
      "[5.4 4.9 5.7 1.2]\n"
     ]
    }
   ],
   "source": [
    "import numpy as np\n",
    "a = np.array([[5.4, 7,9.0], [24.5, 12.7, 4.9], [6.4, 5.7, 1.2]])\n",
    "n = 6\n",
    "print(\"Array elements lesser than n = 6 are:\")\n",
    "print(a[a < n])\n"
   ]
  },
  {
   "cell_type": "code",
   "execution_count": null,
   "id": "72a34ef4",
   "metadata": {},
   "outputs": [],
   "source": []
  },
  {
   "cell_type": "code",
   "execution_count": null,
   "id": "8a19a9bb",
   "metadata": {},
   "outputs": [],
   "source": []
  }
 ],
 "metadata": {
  "kernelspec": {
   "display_name": "Python 3 (ipykernel)",
   "language": "python",
   "name": "python3"
  },
  "language_info": {
   "codemirror_mode": {
    "name": "ipython",
    "version": 3
   },
   "file_extension": ".py",
   "mimetype": "text/x-python",
   "name": "python",
   "nbconvert_exporter": "python",
   "pygments_lexer": "ipython3",
   "version": "3.9.12"
  }
 },
 "nbformat": 4,
 "nbformat_minor": 5
}
