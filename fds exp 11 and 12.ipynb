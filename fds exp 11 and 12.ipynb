{
 "cells": [
  {
   "cell_type": "code",
   "execution_count": 3,
   "id": "dc61250c",
   "metadata": {},
   "outputs": [
    {
     "name": "stdout",
     "output_type": "stream",
     "text": [
      "Frequency distribution: A    3\n",
      "B    2\n",
      "C    2\n",
      "Name: Datas, dtype: int64\n"
     ]
    }
   ],
   "source": [
    "#exp 11\n",
    "import pandas as pd\n",
    "data={'Datas':['A','B','C','A','C','B','A']}\n",
    "df=pd.DataFrame(data)\n",
    "print('Frequency distribution:',df['Datas'].value_counts())"
   ]
  },
  {
   "cell_type": "code",
   "execution_count": 5,
   "id": "705cb2ff",
   "metadata": {},
   "outputs": [
    {
     "name": "stdout",
     "output_type": "stream",
     "text": [
      "salary mean: 2059147.142857143\n",
      "salary variance: 10049683866903.361\n",
      "salary std: 3170123.635901818\n"
     ]
    }
   ],
   "source": [
    "df=pd.read_csv('Employee.csv')\n",
    "print('salary mean:',df['Salary'].mean())\n",
    "print('salary variance:',df['Salary'].var())\n",
    "print('salary std:',df['Salary'].std())"
   ]
  },
  {
   "cell_type": "code",
   "execution_count": 9,
   "id": "d1db9b73",
   "metadata": {},
   "outputs": [
    {
     "name": "stdout",
     "output_type": "stream",
     "text": [
      "mean: 39.0\n",
      "variance: 456.5\n",
      "std: 21.365860619221497\n"
     ]
    }
   ],
   "source": [
    "import pandas as pd\n",
    "data1={'id':[1,2,3,4,5],'val':[45,22,63,12,53]}\n",
    "df1=pd.DataFrame(data1)\n",
    "print('mean:',df1['val'].mean())\n",
    "print('variance:',df1['val'].var())\n",
    "print('std:',df1['val'].std())"
   ]
  },
  {
   "cell_type": "code",
   "execution_count": 11,
   "id": "7914f043",
   "metadata": {},
   "outputs": [
    {
     "data": {
      "image/png": "[encoded data removed]",
      "text/plain": [
       "<Figure size 432x288 with 1 Axes>"
      ]
     },
     "metadata": {
      "needs_background": "light"
     },
     "output_type": "display_data"
    }
   ],
   "source": [
    "from matplotlib import pyplot as plt\n",
    "x=[1,2,3,4,5,6,7]\n",
    "y=[3,6,7,12,15,18,21]\n",
    "plt.scatter(x,y,color='red',marker=7)\n",
    "plt.show()"
   ]
  },
  {
   "cell_type": "code",
   "execution_count": 26,
   "id": "f02f374a",
   "metadata": {},
   "outputs": [
    {
     "name": "stdout",
     "output_type": "stream",
     "text": [
      "[26 28 30 32 34 36 38 40 42 44 46 48 50 52 54]\n"
     ]
    }
   ],
   "source": [
    "#exp 12\n",
    "import numpy as np\n",
    "a=np.arange(25,55)  \n",
    "even_num=a[a%2==0]\n",
    "print(even_num)"
   ]
  },
  {
   "cell_type": "code",
   "execution_count": 29,
   "id": "bac0005c",
   "metadata": {},
   "outputs": [
    {
     "name": "stdout",
     "output_type": "stream",
     "text": [
      "[ 1  2  3  4  5  6  7  8  9 10 11 12 13 14 15 16 17 18 19 20] \n",
      "\n",
      "10.5\n",
      "10.5\n",
      "1\n",
      "20\n"
     ]
    }
   ],
   "source": [
    "a2=np.arange(1,21)\n",
    "print(a2,'\\n')\n",
    "print(a2.mean())\n",
    "print(np.median(a2))\n",
    "print(a2.min())\n",
    "print(a2.max())"
   ]
  },
  {
   "cell_type": "code",
   "execution_count": 31,
   "id": "ea875213",
   "metadata": {},
   "outputs": [
    {
     "name": "stdout",
     "output_type": "stream",
     "text": [
      "[ 0  2  4  6  8 10 12 14 16 18]\n"
     ]
    }
   ],
   "source": [
    "o=a2[a2%2==1]-1\n",
    "print(o)"
   ]
  },
  {
   "cell_type": "code",
   "execution_count": 32,
   "id": "8db228f0",
   "metadata": {},
   "outputs": [
    {
     "name": "stdout",
     "output_type": "stream",
     "text": [
      "9.0\n",
      "9.0\n",
      "0\n",
      "18\n"
     ]
    }
   ],
   "source": [
    "print(o.mean())\n",
    "print(np.median(o))\n",
    "print(o.min())\n",
    "print(o.max())"
   ]
  },
  {
   "cell_type": "code",
   "execution_count": 69,
   "id": "0b2c905f",
   "metadata": {},
   "outputs": [
    {
     "name": "stdout",
     "output_type": "stream",
     "text": [
      "2d: [[1 2 3]\n",
      " [4 5 6]] [[ 7  8  9]\n",
      " [10 11 12]]\n",
      "2d to 1d: [1 2 3 4 5 6] [ 7  8  9 10 11 12]\n"
     ]
    }
   ],
   "source": [
    "two1=np.array([[1,2,3],[4,5,6]])\n",
    "two2=np.array([[7,8,9],[10,11,12]])\n",
    "one1=two1.reshape(-1)\n",
    "one2=two2.reshape(-1)\n",
    "print(\"2d:\",two1,two2)\n",
    "print(\"2d to 1d:\",one1,one2)"
   ]
  },
  {
   "cell_type": "code",
   "execution_count": 74,
   "id": "0580d955",
   "metadata": {},
   "outputs": [
    {
     "name": "stdout",
     "output_type": "stream",
     "text": [
      "[[10 20 30]\n",
      " [40 50 60]] \n",
      "\n",
      "[[35 40 45]\n",
      " [50 55 60]]\n"
     ]
    }
   ],
   "source": [
    "print(two1*10,'\\n')\n",
    "print(two2*5)"
   ]
  },
  {
   "cell_type": "code",
   "execution_count": 77,
   "id": "1ab99fb8",
   "metadata": {},
   "outputs": [
    {
     "name": "stdout",
     "output_type": "stream",
     "text": [
      "add:\n",
      " [[ 8 10 12]\n",
      " [14 16 18]]\n",
      "sub:\n",
      " [[-6 -6 -6]\n",
      " [-6 -6 -6]]\n",
      "mul:\n",
      " [[ 7 16 27]\n",
      " [40 55 72]]\n",
      "sqrt 2d 1st:\n",
      " [[1.         1.41421356 1.73205081]\n",
      " [2.         2.23606798 2.44948974]]\n",
      "sqrt 2d 2nd:\n",
      " [[2.64575131 2.82842712 3.        ]\n",
      " [3.16227766 3.31662479 3.46410162]]\n"
     ]
    }
   ],
   "source": [
    "print('add:\\n',np.add(two1,two2))\n",
    "print('sub:\\n',np.subtract(two1,two2))\n",
    "print('mul:\\n',np.multiply(two1,two2))\n",
    "print('sqrt 2d 1st:\\n',np.sqrt(two1))\n",
    "print('sqrt 2d 2nd:\\n',np.sqrt(two2))"
   ]
  },
  {
   "cell_type": "code",
   "execution_count": 79,
   "id": "332176fb",
   "metadata": {},
   "outputs": [
    {
     "name": "stdout",
     "output_type": "stream",
     "text": [
      "power of 1st array :\n",
      " [[  1   8  27]\n",
      " [ 64 125 216]]\n"
     ]
    }
   ],
   "source": [
    "print('power of 1st array :\\n',np.power(two1,3))"
   ]
  },
  {
   "cell_type": "code",
   "execution_count": null,
   "id": "cb7cc3e4",
   "metadata": {},
   "outputs": [],
   "source": []
  }
 ],
 "metadata": {
  "kernelspec": {
   "display_name": "Python 3 (ipykernel)",
   "language": "python",
   "name": "python3"
  },
  "language_info": {
   "codemirror_mode": {
    "name": "ipython",
    "version": 3
   },
   "file_extension": ".py",
   "mimetype": "text/x-python",
   "name": "python",
   "nbconvert_exporter": "python",
   "pygments_lexer": "ipython3",
   "version": "3.9.12"
  }
 },
 "nbformat": 4,
 "nbformat_minor": 5
}
